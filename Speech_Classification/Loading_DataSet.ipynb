{
 "cells": [
  {
   "cell_type": "code",
   "execution_count": 2,
   "metadata": {},
   "outputs": [],
   "source": [
    "import os\n",
    "import pandas as pd"
   ]
  },
  {
   "cell_type": "code",
   "execution_count": 3,
   "metadata": {},
   "outputs": [
    {
     "data": {
      "text/plain": [
       "'C:\\\\Users\\\\abhis\\\\AnacondaProjects\\\\Speech_Classification\\\\data_set'"
      ]
     },
     "execution_count": 3,
     "metadata": {},
     "output_type": "execute_result"
    }
   ],
   "source": [
    "# here I set the path of data set using os.getcwd()\n",
    "path =  os.getcwd()+\"\\\\data_set\"\n",
    "path"
   ]
  },
  {
   "cell_type": "code",
   "execution_count": 18,
   "metadata": {},
   "outputs": [],
   "source": [
    "# intitalize the empty data frame\n",
    "data = pd.DataFrame({'text':[],'class':[]})"
   ]
  },
  {
   "cell_type": "code",
   "execution_count": 19,
   "metadata": {},
   "outputs": [
    {
     "name": "stdout",
     "output_type": "stream",
     "text": [
      "C:\\Users\\abhis\\AnacondaProjects\\Speech_Classification\\data_set\n",
      "858\n"
     ]
    }
   ],
   "source": [
    "# call the function to build the data set\n",
    "data=data.append(build_data_frame(path))"
   ]
  },
  {
   "cell_type": "code",
   "execution_count": 17,
   "metadata": {
    "collapsed": true
   },
   "outputs": [],
   "source": [
    "# function for reading the data files\n",
    "def build_data_frame(path):\n",
    "    rows = []\n",
    "    index = []\n",
    "    classification =[]\n",
    "    for file_name, text, classification in read_files(path):\n",
    "        rows.append({'text':text, 'class': classification})\n",
    "        index.append(file_name)\n",
    "        \n",
    "    data_frame = pd.DataFrame(rows,index=index)\n",
    "    return data_frame"
   ]
  },
  {
   "cell_type": "code",
   "execution_count": 16,
   "metadata": {
    "collapsed": true
   },
   "outputs": [],
   "source": [
    "def read_files(path):\n",
    "    newline=''\n",
    "    for root, dir_names, file_names in os.walk(path):\n",
    "        print(root)\n",
    "        print(len(file_names))\n",
    "        for file_name in file_names:\n",
    "            file_path = os.path.join(root,file_name)\n",
    "            if(os.path.isfile(file_path)):\n",
    "                #print(file_name)\n",
    "                if(\"R\" in file_name):\n",
    "                    label=\"R\"\n",
    "                else:\n",
    "                    label=\"D\"\n",
    "                lines = []\n",
    "                f = open(file_path)\n",
    "                for line in f:\n",
    "                    lines.append(line.rstrip(\"\\n\"))\n",
    "                f.close()\n",
    "                content=newline.join(lines)\n",
    "                yield file_name, content, label"
   ]
  },
  {
   "cell_type": "code",
   "execution_count": 20,
   "metadata": {},
   "outputs": [
    {
     "data": {
      "text/plain": [
       "466"
      ]
     },
     "execution_count": 20,
     "metadata": {},
     "output_type": "execute_result"
    }
   ],
   "source": [
    "is_republican = data[\"class\"]==\"R\"\n",
    "len(data[is_republican])"
   ]
  },
  {
   "cell_type": "code",
   "execution_count": 21,
   "metadata": {},
   "outputs": [
    {
     "data": {
      "text/plain": [
       "392"
      ]
     },
     "execution_count": 21,
     "metadata": {},
     "output_type": "execute_result"
    }
   ],
   "source": [
    "is_democrate=data[\"class\"]==\"D\"\n",
    "len(data[is_democrate])"
   ]
  },
  {
   "cell_type": "code",
   "execution_count": null,
   "metadata": {
    "collapsed": true
   },
   "outputs": [],
   "source": []
  }
 ],
 "metadata": {
  "kernelspec": {
   "display_name": "Python 3",
   "language": "python",
   "name": "python3"
  },
  "language_info": {
   "codemirror_mode": {
    "name": "ipython",
    "version": 3
   },
   "file_extension": ".py",
   "mimetype": "text/x-python",
   "name": "python",
   "nbconvert_exporter": "python",
   "pygments_lexer": "ipython3",
   "version": "3.6.1"
  }
 },
 "nbformat": 4,
 "nbformat_minor": 2
}
